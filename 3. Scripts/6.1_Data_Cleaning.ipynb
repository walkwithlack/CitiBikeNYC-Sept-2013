{
 "cells": [
  {
   "cell_type": "markdown",
   "id": "e4f4a792-1cc3-4a4b-91f7-de41c722f412",
   "metadata": {},
   "source": [
    "# This script contains the following chapters:\n",
    "1. Importing libraries and data\n",
    "2. Data Cleaning & Basic descriptive statistics"
   ]
  },
  {
   "cell_type": "markdown",
   "id": "88e6c94d-1278-4998-bad0-16a876fe140f",
   "metadata": {},
   "source": [
    "1. Importing libraries and data"
   ]
  },
  {
   "cell_type": "code",
   "execution_count": 1,
   "id": "3649eba0-92fe-40d2-8484-b14bd7c9eb26",
   "metadata": {},
   "outputs": [],
   "source": [
    "#importing libraries\n",
    "import pandas as pd\n",
    "import numpy as np\n",
    "import os"
   ]
  },
  {
   "cell_type": "code",
   "execution_count": 2,
   "id": "b55a6b04-8f96-43c0-9769-a436a9079234",
   "metadata": {},
   "outputs": [],
   "source": [
    "#creating path for easier import\n",
    "path = r'C:\\Users\\magia\\NY CitiBike'"
   ]
  },
  {
   "cell_type": "code",
   "execution_count": 3,
   "id": "c84d5aac-7d4c-4bed-befc-1d2411d53d28",
   "metadata": {},
   "outputs": [],
   "source": [
    "# importing dataset\n",
    "df = pd.read_csv(os.path.join(path, '2. Data', 'Original Data', 'citibike.csv'))"
   ]
  },
  {
   "cell_type": "code",
   "execution_count": 4,
   "id": "86ab0b61-28f7-44e9-8f62-2ae6cc1320df",
   "metadata": {},
   "outputs": [
    {
     "data": {
      "text/plain": [
       "(50000, 18)"
      ]
     },
     "execution_count": 4,
     "metadata": {},
     "output_type": "execute_result"
    }
   ],
   "source": [
    "#inspecting data with shape attribute\n",
    "df.shape"
   ]
  },
  {
   "cell_type": "code",
   "execution_count": 5,
   "id": "55020f89-366c-410f-b5d2-9800915dbf82",
   "metadata": {},
   "outputs": [
    {
     "data": {
      "text/html": [
       "<div>\n",
       "<style scoped>\n",
       "    .dataframe tbody tr th:only-of-type {\n",
       "        vertical-align: middle;\n",
       "    }\n",
       "\n",
       "    .dataframe tbody tr th {\n",
       "        vertical-align: top;\n",
       "    }\n",
       "\n",
       "    .dataframe thead th {\n",
       "        text-align: right;\n",
       "    }\n",
       "</style>\n",
       "<table border=\"1\" class=\"dataframe\">\n",
       "  <thead>\n",
       "    <tr style=\"text-align: right;\">\n",
       "      <th></th>\n",
       "      <th>trip_id</th>\n",
       "      <th>bike_id</th>\n",
       "      <th>weekday</th>\n",
       "      <th>start_hour</th>\n",
       "      <th>start_time</th>\n",
       "      <th>start_station_id</th>\n",
       "      <th>start_station_name</th>\n",
       "      <th>start_station_latitude</th>\n",
       "      <th>start_station_longitude</th>\n",
       "      <th>end_time</th>\n",
       "      <th>end_station_id</th>\n",
       "      <th>end_station_name</th>\n",
       "      <th>end_station_latitude</th>\n",
       "      <th>end_station_longitude</th>\n",
       "      <th>trip_duration</th>\n",
       "      <th>subscriber</th>\n",
       "      <th>birth_year</th>\n",
       "      <th>gender</th>\n",
       "    </tr>\n",
       "  </thead>\n",
       "  <tbody>\n",
       "    <tr>\n",
       "      <th>0</th>\n",
       "      <td>LnQzQk</td>\n",
       "      <td>16013</td>\n",
       "      <td>Mon</td>\n",
       "      <td>18</td>\n",
       "      <td>2013-09-09 18:18:55</td>\n",
       "      <td>523</td>\n",
       "      <td>W 38 St &amp; 8 Ave</td>\n",
       "      <td>40.754666</td>\n",
       "      <td>-73.991382</td>\n",
       "      <td>2013-09-09 18:35:28</td>\n",
       "      <td>334</td>\n",
       "      <td>W 20 St &amp; 7 Ave</td>\n",
       "      <td>40.742388</td>\n",
       "      <td>-73.997262</td>\n",
       "      <td>993</td>\n",
       "      <td>Subscriber</td>\n",
       "      <td>1968.0</td>\n",
       "      <td>2</td>\n",
       "    </tr>\n",
       "    <tr>\n",
       "      <th>1</th>\n",
       "      <td>IL9boN</td>\n",
       "      <td>15230</td>\n",
       "      <td>Thu</td>\n",
       "      <td>18</td>\n",
       "      <td>2013-09-12 18:38:53</td>\n",
       "      <td>257</td>\n",
       "      <td>Lispenard St &amp; Broadway</td>\n",
       "      <td>40.719392</td>\n",
       "      <td>-74.002472</td>\n",
       "      <td>2013-09-12 18:48:34</td>\n",
       "      <td>236</td>\n",
       "      <td>St Marks Pl &amp; 2 Ave</td>\n",
       "      <td>40.728419</td>\n",
       "      <td>-73.987140</td>\n",
       "      <td>581</td>\n",
       "      <td>Subscriber</td>\n",
       "      <td>1983.0</td>\n",
       "      <td>1</td>\n",
       "    </tr>\n",
       "    <tr>\n",
       "      <th>2</th>\n",
       "      <td>46clGB</td>\n",
       "      <td>17942</td>\n",
       "      <td>Wed</td>\n",
       "      <td>19</td>\n",
       "      <td>2013-09-18 19:44:04</td>\n",
       "      <td>479</td>\n",
       "      <td>9 Ave &amp; W 45 St</td>\n",
       "      <td>40.760193</td>\n",
       "      <td>-73.991255</td>\n",
       "      <td>2013-09-18 19:50:05</td>\n",
       "      <td>513</td>\n",
       "      <td>W 56 St &amp; 10 Ave</td>\n",
       "      <td>40.768254</td>\n",
       "      <td>-73.988639</td>\n",
       "      <td>361</td>\n",
       "      <td>Subscriber</td>\n",
       "      <td>1989.0</td>\n",
       "      <td>1</td>\n",
       "    </tr>\n",
       "    <tr>\n",
       "      <th>3</th>\n",
       "      <td>v7vdFt</td>\n",
       "      <td>19683</td>\n",
       "      <td>Sat</td>\n",
       "      <td>11</td>\n",
       "      <td>2013-09-28 11:54:37</td>\n",
       "      <td>527</td>\n",
       "      <td>E 33 St &amp; 1 Ave</td>\n",
       "      <td>40.743156</td>\n",
       "      <td>-73.974347</td>\n",
       "      <td>2013-09-28 12:03:58</td>\n",
       "      <td>441</td>\n",
       "      <td>E 52 St &amp; 2 Ave</td>\n",
       "      <td>40.756014</td>\n",
       "      <td>-73.967416</td>\n",
       "      <td>561</td>\n",
       "      <td>Subscriber</td>\n",
       "      <td>1988.0</td>\n",
       "      <td>2</td>\n",
       "    </tr>\n",
       "    <tr>\n",
       "      <th>4</th>\n",
       "      <td>VGBsb5</td>\n",
       "      <td>18024</td>\n",
       "      <td>Sat</td>\n",
       "      <td>18</td>\n",
       "      <td>2013-09-07 18:08:22</td>\n",
       "      <td>521</td>\n",
       "      <td>8 Ave &amp; W 31 St</td>\n",
       "      <td>40.750450</td>\n",
       "      <td>-73.994811</td>\n",
       "      <td>2013-09-07 18:46:38</td>\n",
       "      <td>476</td>\n",
       "      <td>E 31 St &amp; 3 Ave</td>\n",
       "      <td>40.743943</td>\n",
       "      <td>-73.979661</td>\n",
       "      <td>2296</td>\n",
       "      <td>Non-Subscriber</td>\n",
       "      <td>NaN</td>\n",
       "      <td>0</td>\n",
       "    </tr>\n",
       "  </tbody>\n",
       "</table>\n",
       "</div>"
      ],
      "text/plain": [
       "  trip_id  bike_id weekday  start_hour           start_time  start_station_id  \\\n",
       "0  LnQzQk    16013     Mon          18  2013-09-09 18:18:55               523   \n",
       "1  IL9boN    15230     Thu          18  2013-09-12 18:38:53               257   \n",
       "2  46clGB    17942     Wed          19  2013-09-18 19:44:04               479   \n",
       "3  v7vdFt    19683     Sat          11  2013-09-28 11:54:37               527   \n",
       "4  VGBsb5    18024     Sat          18  2013-09-07 18:08:22               521   \n",
       "\n",
       "        start_station_name  start_station_latitude  start_station_longitude  \\\n",
       "0          W 38 St & 8 Ave               40.754666               -73.991382   \n",
       "1  Lispenard St & Broadway               40.719392               -74.002472   \n",
       "2          9 Ave & W 45 St               40.760193               -73.991255   \n",
       "3          E 33 St & 1 Ave               40.743156               -73.974347   \n",
       "4          8 Ave & W 31 St               40.750450               -73.994811   \n",
       "\n",
       "              end_time  end_station_id     end_station_name  \\\n",
       "0  2013-09-09 18:35:28             334      W 20 St & 7 Ave   \n",
       "1  2013-09-12 18:48:34             236  St Marks Pl & 2 Ave   \n",
       "2  2013-09-18 19:50:05             513     W 56 St & 10 Ave   \n",
       "3  2013-09-28 12:03:58             441      E 52 St & 2 Ave   \n",
       "4  2013-09-07 18:46:38             476      E 31 St & 3 Ave   \n",
       "\n",
       "   end_station_latitude  end_station_longitude  trip_duration      subscriber  \\\n",
       "0             40.742388             -73.997262            993      Subscriber   \n",
       "1             40.728419             -73.987140            581      Subscriber   \n",
       "2             40.768254             -73.988639            361      Subscriber   \n",
       "3             40.756014             -73.967416            561      Subscriber   \n",
       "4             40.743943             -73.979661           2296  Non-Subscriber   \n",
       "\n",
       "   birth_year  gender  \n",
       "0      1968.0       2  \n",
       "1      1983.0       1  \n",
       "2      1989.0       1  \n",
       "3      1988.0       2  \n",
       "4         NaN       0  "
      ]
     },
     "execution_count": 5,
     "metadata": {},
     "output_type": "execute_result"
    }
   ],
   "source": [
    "# inspecting data with head method\n",
    "df.head()"
   ]
  },
  {
   "cell_type": "markdown",
   "id": "bee335d1-f752-486d-b438-d4349f1f7f46",
   "metadata": {},
   "source": [
    "2. Data Cleaning & Basic descriptive statistics"
   ]
  },
  {
   "cell_type": "code",
   "execution_count": 6,
   "id": "378367a9-9187-47ce-9a21-d27e4f01526b",
   "metadata": {},
   "outputs": [
    {
     "data": {
      "text/plain": [
       "False"
      ]
     },
     "execution_count": 6,
     "metadata": {},
     "output_type": "execute_result"
    }
   ],
   "source": [
    "# checking for duplicates\n",
    "df.duplicated().any()"
   ]
  },
  {
   "cell_type": "code",
   "execution_count": 7,
   "id": "f9a6b5a6-6164-47c3-9924-1c71532af177",
   "metadata": {},
   "outputs": [],
   "source": [
    "# dropping trip_id column\n",
    "df.drop('trip_id', axis=1, inplace=True)"
   ]
  },
  {
   "cell_type": "code",
   "execution_count": 8,
   "id": "93ae0934-0b5b-4737-96d7-8ae6915d6cda",
   "metadata": {},
   "outputs": [
    {
     "name": "stdout",
     "output_type": "stream",
     "text": [
      "<class 'pandas.core.frame.DataFrame'>\n",
      "RangeIndex: 50000 entries, 0 to 49999\n",
      "Data columns (total 17 columns):\n",
      " #   Column                   Non-Null Count  Dtype  \n",
      "---  ------                   --------------  -----  \n",
      " 0   bike_id                  50000 non-null  int64  \n",
      " 1   weekday                  50000 non-null  object \n",
      " 2   start_hour               50000 non-null  int64  \n",
      " 3   start_time               50000 non-null  object \n",
      " 4   start_station_id         50000 non-null  int64  \n",
      " 5   start_station_name       50000 non-null  object \n",
      " 6   start_station_latitude   50000 non-null  float64\n",
      " 7   start_station_longitude  50000 non-null  float64\n",
      " 8   end_time                 50000 non-null  object \n",
      " 9   end_station_id           50000 non-null  int64  \n",
      " 10  end_station_name         50000 non-null  object \n",
      " 11  end_station_latitude     50000 non-null  float64\n",
      " 12  end_station_longitude    50000 non-null  float64\n",
      " 13  trip_duration            50000 non-null  int64  \n",
      " 14  subscriber               50000 non-null  object \n",
      " 15  birth_year               43021 non-null  float64\n",
      " 16  gender                   50000 non-null  int64  \n",
      "dtypes: float64(5), int64(6), object(6)\n",
      "memory usage: 6.5+ MB\n"
     ]
    }
   ],
   "source": [
    "# inspecting data with info method\n",
    "df.info()"
   ]
  },
  {
   "cell_type": "code",
   "execution_count": 9,
   "id": "6e75a0f2-9237-4bf4-b887-6fd9156ae0d9",
   "metadata": {},
   "outputs": [
    {
     "data": {
      "text/plain": [
       "array([1968., 1983., 1989., 1988.,   nan, 1986., 1994., 1969., 1993.,\n",
       "       1985., 1979., 1967., 1981., 1959., 1976., 1974., 1978., 1971.,\n",
       "       1966., 1987., 1965., 1951., 1954., 1960., 1984., 1955., 1958.,\n",
       "       1975., 1953., 1980., 1973., 1957., 1970., 1977., 1961., 1982.,\n",
       "       1962., 1950., 1956., 1991., 1964., 1946., 1947., 1963., 1952.,\n",
       "       1992., 1990., 1972., 1944., 1922., 1997., 1941., 1995., 1932.,\n",
       "       1900., 1948., 1945., 1949., 1901., 1996., 1938., 1942., 1943.,\n",
       "       1935., 1940., 1939., 1933., 1899., 1934., 1936., 1910., 1929.,\n",
       "       1917., 1937., 1926., 1924., 1921.])"
      ]
     },
     "execution_count": 9,
     "metadata": {},
     "output_type": "execute_result"
    }
   ],
   "source": [
    "# checking values of birth_year column\n",
    "df['birth_year'].unique()"
   ]
  },
  {
   "cell_type": "code",
   "execution_count": 10,
   "id": "eaa3dd90-61ff-41e7-b4e8-27f92755cccf",
   "metadata": {},
   "outputs": [
    {
     "data": {
      "text/plain": [
       "13.958"
      ]
     },
     "execution_count": 10,
     "metadata": {},
     "output_type": "execute_result"
    }
   ],
   "source": [
    "#checking %  of NaN in birth_year\n",
    "df['birth_year'].isna().mean() * 100"
   ]
  },
  {
   "cell_type": "code",
   "execution_count": 11,
   "id": "7677b0c0-01b4-4c61-b1fe-929b2ad63b48",
   "metadata": {},
   "outputs": [],
   "source": [
    "# creating birth_year_label column to show NaNs as \"Unknown\" and numeric birth years as integers\n",
    "df['birth_year_label'] = df['birth_year'].fillna('Unknown')\n",
    "\n",
    "# Convert numeric years to int, leave 'Unknown' as is\n",
    "def clean_year(x):\n",
    "    if x == 'Unknown':\n",
    "        return x\n",
    "    else:\n",
    "        return str(int(x))\n",
    "\n",
    "df['birth_year_label'] = df['birth_year_label'].apply(clean_year)"
   ]
  },
  {
   "cell_type": "code",
   "execution_count": 12,
   "id": "8d235236-6b81-4055-85c1-4c26884e80b8",
   "metadata": {},
   "outputs": [
    {
     "name": "stdout",
     "output_type": "stream",
     "text": [
      "gender\n",
      "Male       32361\n",
      "Female     10658\n",
      "Unknown     6981\n",
      "Name: count, dtype: int64\n"
     ]
    }
   ],
   "source": [
    "# convert gender to readable labels\n",
    "gender_map = {0: 'Unknown', 1: 'Male', 2: 'Female'}\n",
    "df['gender'] = df['gender'].map(gender_map)\n",
    "\n",
    "print(df['gender'].value_counts())\n"
   ]
  },
  {
   "cell_type": "code",
   "execution_count": 13,
   "id": "44e7f3be-d6a1-4b51-a31e-23260d0ec5f2",
   "metadata": {},
   "outputs": [],
   "source": [
    "# converting start_time and end_time data from string object to datetime\n",
    "df['start_time'] = pd.to_datetime(df['start_time'])\n",
    "df['end_time'] = pd.to_datetime(df['end_time'])"
   ]
  },
  {
   "cell_type": "code",
   "execution_count": 14,
   "id": "bbdc52bc-b8fd-4a9a-9431-eb77e985654e",
   "metadata": {},
   "outputs": [
    {
     "name": "stdout",
     "output_type": "stream",
     "text": [
      "weekday\n",
      "Mon    7715\n",
      "Sun    7319\n",
      "Fri    7309\n",
      "Wed    7228\n",
      "Tue    7065\n",
      "Thu    6857\n",
      "Sat    6507\n",
      "Name: count, dtype: int64\n"
     ]
    }
   ],
   "source": [
    "# checking weekday column\n",
    "print(df['weekday'].value_counts())"
   ]
  },
  {
   "cell_type": "code",
   "execution_count": 15,
   "id": "931c8d57-e836-479b-ae43-9a614940ac98",
   "metadata": {},
   "outputs": [
    {
     "name": "stdout",
     "output_type": "stream",
     "text": [
      "subscriber\n",
      "Subscriber        43021\n",
      "Non-Subscriber     6979\n",
      "Name: count, dtype: int64\n"
     ]
    }
   ],
   "source": [
    "# checking subscriber column\n",
    "print(df['subscriber'].value_counts())"
   ]
  },
  {
   "cell_type": "code",
   "execution_count": 16,
   "id": "a210f8cf-807f-4018-8d5e-e5f73bad3460",
   "metadata": {},
   "outputs": [
    {
     "name": "stdout",
     "output_type": "stream",
     "text": [
      "Trip duration <= 0: 0\n",
      "Start hour outside 0-23: 0\n",
      "Birth year outside valid range: 29\n"
     ]
    }
   ],
   "source": [
    "# checking for anomalies in numeric data\n",
    "print(\"Trip duration <= 0:\", df[df['trip_duration'] <= 0].shape[0])\n",
    "print(\"Start hour outside 0-23:\", df[(df['start_hour'] < 0) | (df['start_hour'] > 23)].shape[0])\n",
    "print(\"Birth year outside valid range:\", df[(df['birth_year'] > 2013) | (df['birth_year'] < 1925)].shape[0])"
   ]
  },
  {
   "cell_type": "code",
   "execution_count": 17,
   "id": "f0f6aca0-6d7d-47b4-8caa-f9c6fbca10e9",
   "metadata": {},
   "outputs": [],
   "source": [
    "#creating  88+ years old flag for particularly senior users(potential mistakes in data)\n",
    "df['88+_years_old'] = df['birth_year'] < 1925"
   ]
  },
  {
   "cell_type": "code",
   "execution_count": 18,
   "id": "d6c44aac-88ed-4d78-9fca-f87c64952374",
   "metadata": {},
   "outputs": [
    {
     "name": "stdout",
     "output_type": "stream",
     "text": [
      "Invalid latitudes: 0\n",
      "Invalid longitudes: 0\n"
     ]
    }
   ],
   "source": [
    "# checking latitute and longitude for start station columns\n",
    "invalid_lat = df[(df['start_station_latitude'] < 40.5) | (df['start_station_latitude'] > 41.0)]\n",
    "invalid_lon = df[(df['start_station_longitude'] < -74.3) | (df['start_station_longitude'] > -73.7)]\n",
    "\n",
    "print(f\"Invalid latitudes: {len(invalid_lat)}\")\n",
    "print(f\"Invalid longitudes: {len(invalid_lon)}\")"
   ]
  },
  {
   "cell_type": "code",
   "execution_count": 19,
   "id": "37afcd54-668f-4aa6-8489-dc5af2267b55",
   "metadata": {},
   "outputs": [
    {
     "name": "stdout",
     "output_type": "stream",
     "text": [
      "Invalid end station latitudes: 0\n",
      "Invalid end station longitudes: 0\n"
     ]
    }
   ],
   "source": [
    "# checking latitude and longitude for end station columns\n",
    "\n",
    "invalid_end_lat = df[(df['end_station_latitude'] < 40.5) | (df['end_station_latitude'] > 41.0)]\n",
    "invalid_end_lon = df[(df['end_station_longitude'] < -74.3) | (df['end_station_longitude'] > -73.7)]\n",
    "\n",
    "print(f\"Invalid end station latitudes: {len(invalid_end_lat)}\")\n",
    "print(f\"Invalid end station longitudes: {len(invalid_end_lon)}\")"
   ]
  },
  {
   "cell_type": "code",
   "execution_count": 20,
   "id": "158d98a2-435e-4c39-a274-4981be27925f",
   "metadata": {},
   "outputs": [
    {
     "data": {
      "text/html": [
       "<div>\n",
       "<style scoped>\n",
       "    .dataframe tbody tr th:only-of-type {\n",
       "        vertical-align: middle;\n",
       "    }\n",
       "\n",
       "    .dataframe tbody tr th {\n",
       "        vertical-align: top;\n",
       "    }\n",
       "\n",
       "    .dataframe thead th {\n",
       "        text-align: right;\n",
       "    }\n",
       "</style>\n",
       "<table border=\"1\" class=\"dataframe\">\n",
       "  <thead>\n",
       "    <tr style=\"text-align: right;\">\n",
       "      <th></th>\n",
       "      <th>start_hour</th>\n",
       "      <th>trip_duration</th>\n",
       "      <th>birth_year</th>\n",
       "    </tr>\n",
       "  </thead>\n",
       "  <tbody>\n",
       "    <tr>\n",
       "      <th>count</th>\n",
       "      <td>50000.000000</td>\n",
       "      <td>50000.000000</td>\n",
       "      <td>43021.000000</td>\n",
       "    </tr>\n",
       "    <tr>\n",
       "      <th>mean</th>\n",
       "      <td>14.145240</td>\n",
       "      <td>838.982900</td>\n",
       "      <td>1975.627786</td>\n",
       "    </tr>\n",
       "    <tr>\n",
       "      <th>std</th>\n",
       "      <td>4.860541</td>\n",
       "      <td>573.663997</td>\n",
       "      <td>11.089001</td>\n",
       "    </tr>\n",
       "    <tr>\n",
       "      <th>min</th>\n",
       "      <td>0.000000</td>\n",
       "      <td>60.000000</td>\n",
       "      <td>1899.000000</td>\n",
       "    </tr>\n",
       "    <tr>\n",
       "      <th>25%</th>\n",
       "      <td>10.000000</td>\n",
       "      <td>417.000000</td>\n",
       "      <td>1968.000000</td>\n",
       "    </tr>\n",
       "    <tr>\n",
       "      <th>50%</th>\n",
       "      <td>15.000000</td>\n",
       "      <td>672.000000</td>\n",
       "      <td>1978.000000</td>\n",
       "    </tr>\n",
       "    <tr>\n",
       "      <th>75%</th>\n",
       "      <td>18.000000</td>\n",
       "      <td>1112.000000</td>\n",
       "      <td>1984.000000</td>\n",
       "    </tr>\n",
       "    <tr>\n",
       "      <th>max</th>\n",
       "      <td>23.000000</td>\n",
       "      <td>2697.000000</td>\n",
       "      <td>1997.000000</td>\n",
       "    </tr>\n",
       "  </tbody>\n",
       "</table>\n",
       "</div>"
      ],
      "text/plain": [
       "         start_hour  trip_duration    birth_year\n",
       "count  50000.000000   50000.000000  43021.000000\n",
       "mean      14.145240     838.982900   1975.627786\n",
       "std        4.860541     573.663997     11.089001\n",
       "min        0.000000      60.000000   1899.000000\n",
       "25%       10.000000     417.000000   1968.000000\n",
       "50%       15.000000     672.000000   1978.000000\n",
       "75%       18.000000    1112.000000   1984.000000\n",
       "max       23.000000    2697.000000   1997.000000"
      ]
     },
     "execution_count": 20,
     "metadata": {},
     "output_type": "execute_result"
    }
   ],
   "source": [
    "# descriptive statistics for start hour, trip duration and birth year\n",
    "df[['start_hour', 'trip_duration', 'birth_year']].describe()"
   ]
  },
  {
   "cell_type": "markdown",
   "id": "7c75fa89-6f40-4a51-b264-6ee456b6bbe8",
   "metadata": {},
   "source": [
    "- Standard deviation of start_hour of about 4.9 hours indicates variability throughout the day.25% of trips start before 10 AM, 50% before 3 PM, and 75% before 6 PM. The busiest time of day is thus between 3 PM and 6 PM (3 hours getting 25% of the rides)\n",
    "- Mean trip_duration is about 840 seconds. Large standard deviation (573.66), showing trip lengths vary widely.Maximum trip duration is 2697 seconds (almost 45 minutes).\n",
    "- birth_year:Only 43,021 non-missing records out of 50,000 (since  6,979 records are NaNs).\n",
    "Mean birth year is 1975.63. Standard deviation around 11 years, indicating a fairly broad age range. Birth years range from 1899 (!) to 1997.\n",
    "Quartiles: 25% born before 1968, median 1978, 75% born before 1984."
   ]
  },
  {
   "cell_type": "code",
   "execution_count": 21,
   "id": "07a29e2c-d5a4-4580-b57f-de194c575b58",
   "metadata": {},
   "outputs": [],
   "source": [
    "# exporting data\n",
    "df.to_csv(os.path.join(path, '2. Data', 'Prepared Data', 'citibike_cleaned.csv'), index=False)"
   ]
  }
 ],
 "metadata": {
  "kernelspec": {
   "display_name": "Python [conda env:base] *",
   "language": "python",
   "name": "conda-base-py"
  },
  "language_info": {
   "codemirror_mode": {
    "name": "ipython",
    "version": 3
   },
   "file_extension": ".py",
   "mimetype": "text/x-python",
   "name": "python",
   "nbconvert_exporter": "python",
   "pygments_lexer": "ipython3",
   "version": "3.12.7"
  }
 },
 "nbformat": 4,
 "nbformat_minor": 5
}
